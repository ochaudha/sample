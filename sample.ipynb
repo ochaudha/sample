{
  "nbformat": 4,
  "nbformat_minor": 0,
  "metadata": {
    "colab": {
      "provenance": [],
      "include_colab_link": true
    },
    "kernelspec": {
      "name": "python3",
      "display_name": "Python 3"
    },
    "language_info": {
      "name": "python"
    }
  },
  "cells": [
    {
      "cell_type": "markdown",
      "metadata": {
        "id": "view-in-github",
        "colab_type": "text"
      },
      "source": [
        "<a href=\"https://colab.research.google.com/github/ochaudha/sample/blob/main/sample.ipynb\" target=\"_parent\"><img src=\"https://colab.research.google.com/assets/colab-badge.svg\" alt=\"Open In Colab\"/></a>"
      ]
    },
    {
      "cell_type": "code",
      "execution_count": 2,
      "metadata": {
        "id": "bD85NBANpa4d"
      },
      "outputs": [],
      "source": [
        "import torch\n",
        "import torch.nn as nn\n",
        "import torch.optim as optim\n"
      ]
    },
    {
      "cell_type": "code",
      "source": [
        "import torch\n",
        "import torchvision\n",
        "from torchvision import datasets, transforms\n",
        "from torch.utils.data import DataLoader\n",
        "\n"
      ],
      "metadata": {
        "id": "CuG30eXDvv4T"
      },
      "execution_count": 10,
      "outputs": []
    },
    {
      "cell_type": "code",
      "source": [
        "class NN(nn.Module):\n",
        "  def __init__(self, feature, classes):\n",
        "    super(NN, self).__init__()\n",
        "    self.fc1 = nn.Linear(feature, 50)\n",
        "    self.relu = nn.ReLU()\n",
        "    self.fc2 = nn.Linear(50,1)\n",
        "\n",
        "  def forward(self, x):\n",
        "    x = self.fc1(x)\n",
        "    x = self.relu(x)\n",
        "    x = self.fc2(x)\n",
        "    return x\n"
      ],
      "metadata": {
        "id": "ELCAo_WeyZGP"
      },
      "execution_count": 5,
      "outputs": []
    },
    {
      "cell_type": "code",
      "source": [
        "train_dataset=datasets.MNIST(root='./data', train=True, download=True, transform=transforms.ToTensor())\n",
        "test_dataset=datasets.MNIST(root='./data', train=False, download=True, transform=transforms.ToTensor())\n",
        "train_loader=DataLoader(train_dataset, batch_size=batch_size, shuffle=True)\n",
        "test_loader=DataLoader(test_dataset, batch_size=batch_size, shuffle=False\n"
      ],
      "metadata": {
        "id": "I8Y54glh0_8i"
      },
      "execution_count": 13,
      "outputs": []
    },
    {
      "cell_type": "code",
      "source": [
        "feature=784\n",
        "lr=0.001\n",
        "classes=10\n",
        "batch_size=64\n",
        "num_epochs=1"
      ],
      "metadata": {
        "id": "5I07a9D3zmr0"
      },
      "execution_count": null,
      "outputs": []
    }
  ]
}